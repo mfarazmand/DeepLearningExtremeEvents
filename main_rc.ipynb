{
 "cells": [
  {
   "cell_type": "markdown",
   "metadata": {},
   "source": [
    "#### Import statements"
   ]
  },
  {
   "cell_type": "code",
   "execution_count": null,
   "metadata": {},
   "outputs": [],
   "source": [
    "import easyesn\n",
    "\n",
    "from easyesn import PredictionESN\n",
    "from easyesn.optimizers import GradientOptimizer\n",
    "from easyesn.optimizers import GridSearchOptimizer\n",
    "from scipy.io import loadmat, savemat\n",
    "import numpy as np"
   ]
  },
  {
   "cell_type": "markdown",
   "metadata": {},
   "source": [
    "#### Uncomment the system for which you are making predictions."
   ]
  },
  {
   "cell_type": "code",
   "execution_count": null,
   "metadata": {},
   "outputs": [],
   "source": [
    "# system = \"rossler\" # Rossler\n",
    "system = \"FHN\" # Fitz-High Nagumo\n",
    "# system = \"KF_fourier\" # Kolmogorov Flow with Fourier mode a(1,0)\n",
    "# system = \"KF_vorticity\" # Kolmogorov Flow with vorticity sampling"
   ]
  },
  {
   "cell_type": "markdown",
   "metadata": {},
   "source": [
    "#### Load data for training"
   ]
  },
  {
   "cell_type": "code",
   "execution_count": null,
   "metadata": {},
   "outputs": [],
   "source": [
    "data = loadmat(system + '_train.mat')\n",
    "    \n",
    "numvar = data['numvar'][0][0]\n",
    "X_train = np.transpose(data['X_train'])\n",
    "q_train = np.transpose(data['q_train'])\n",
    "X_test = np.transpose(data['X_test'])\n",
    "q_test = np.transpose(data['q_test'])\n",
    "n_reservoir = data[\"n_reservoir\"][0][0]\n",
    "rho = data[\"rho\"][0][0]\n",
    "beta = data[\"beta\"][0][0]\n",
    "lr = data[\"lr\"][0][0]\n",
    "i_density = data[\"i_density\"][0][0]\n",
    "r_density = data[\"r_density\"][0][0]"
   ]
  },
  {
   "cell_type": "markdown",
   "metadata": {},
   "source": [
    "#### Train reservior computing network and make predictions on the testing data"
   ]
  },
  {
   "cell_type": "code",
   "execution_count": null,
   "metadata": {},
   "outputs": [],
   "source": [
    "# Train network\n",
    "esn = PredictionESN(n_input=numvar, n_output=1, n_reservoir=n_reservoir, spectralRadius=rho, \n",
    "                    regressionParameters=[beta], solver='lsqr', leakingRate=lr, reservoirDensity = r_density,\n",
    "                    inputDensity = i_density)\n",
    "esn.fit(X_train, q_train, transientTime=0, verbose=0)\n",
    "\n",
    "# Make predictions\n",
    "prediction = np.transpose(esn.predict(X_test, verbose=0))"
   ]
  },
  {
   "cell_type": "markdown",
   "metadata": {},
   "source": [
    "#### Save predictions. After this return to main_rc.m"
   ]
  },
  {
   "cell_type": "code",
   "execution_count": null,
   "metadata": {},
   "outputs": [],
   "source": [
    "savemat(system + '_user_predictions.mat', dict(prediction=prediction))"
   ]
  },
  {
   "cell_type": "code",
   "execution_count": null,
   "metadata": {},
   "outputs": [],
   "source": []
  }
 ],
 "metadata": {
  "kernelspec": {
   "display_name": "Python 3",
   "language": "python",
   "name": "python3"
  },
  "language_info": {
   "codemirror_mode": {
    "name": "ipython",
    "version": 3
   },
   "file_extension": ".py",
   "mimetype": "text/x-python",
   "name": "python",
   "nbconvert_exporter": "python",
   "pygments_lexer": "ipython3",
   "version": "3.7.4"
  }
 },
 "nbformat": 4,
 "nbformat_minor": 4
}
